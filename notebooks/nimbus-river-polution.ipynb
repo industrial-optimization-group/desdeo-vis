{
 "cells": [
  {
   "cell_type": "markdown",
   "metadata": {},
   "source": [
    "First, some boilerplate imports. We import optimisation methods from desdeo, the RiverPollution problem from example (FIXME), and visualisation and preference selection tools and widgets from desdeo_vis. Finally, we import and initialise altair."
   ]
  },
  {
   "cell_type": "code",
   "execution_count": null,
   "metadata": {},
   "outputs": [],
   "source": [
    "from desdeo.method.NIMBUS import NIMBUS\n",
    "from desdeo.optimization import SciPyDE\n",
    "\n",
    "from examples.NarulaWeistroffer import RiverPollution\n",
    "\n",
    "from desdeo_vis.plot import parplot\n",
    "from desdeo_vis.widget import NimbusPrefWidget\n",
    "\n",
    "import altair.vega.v3 as vg\n",
    "vg.renderers.enable('notebook');"
   ]
  },
  {
   "cell_type": "markdown",
   "metadata": {},
   "source": [
    "In this notebook, we explore solutions to the RiverPollution problem with NIMBUS. First we initialise the RiverPollution problem and the NIMBUS solution method. Then we get an initial result. We can plot solutions at any time using `parplot`. "
   ]
  },
  {
   "cell_type": "code",
   "execution_count": null,
   "metadata": {},
   "outputs": [],
   "source": [
    "problem = RiverPollution()\n",
    "method = NIMBUS(problem, SciPyDE)\n",
    "results = method.init_iteration()\n",
    "\n",
    "parplot(results, problem)"
   ]
  },
  {
   "cell_type": "markdown",
   "metadata": {},
   "source": [
    "Next, we will give our first preference based on NIMBUS. We construct a `NimbusPrefWidget` and save it to a variable"
   ]
  },
  {
   "cell_type": "code",
   "execution_count": null,
   "metadata": {
    "scrolled": true
   },
   "outputs": [],
   "source": [
    "pref = NimbusPrefWidget(results, problem)\n",
    "pref"
   ]
  },
  {
   "cell_type": "markdown",
   "metadata": {},
   "source": [
    "We can now generate a new set of results based on this preference. Note that this will raise an `InvalidNimbusPreferencesException` if you run it while the above preferences are invalid."
   ]
  },
  {
   "cell_type": "code",
   "execution_count": null,
   "metadata": {},
   "outputs": [],
   "source": [
    "results2 = method.next_iteration(preference=pref.nimbus_clf(method))\n",
    "\n",
    "parplot(results2, problem)"
   ]
  },
  {
   "cell_type": "code",
   "execution_count": null,
   "metadata": {},
   "outputs": [],
   "source": []
  }
 ],
 "metadata": {
  "kernelspec": {
   "display_name": "Python 3",
   "language": "python",
   "name": "python3"
  },
  "language_info": {
   "codemirror_mode": {
    "name": "ipython",
    "version": 3
   },
   "file_extension": ".py",
   "mimetype": "text/x-python",
   "name": "python",
   "nbconvert_exporter": "python",
   "pygments_lexer": "ipython3",
   "version": "3.6.5rc1"
  }
 },
 "nbformat": 4,
 "nbformat_minor": 2
}
