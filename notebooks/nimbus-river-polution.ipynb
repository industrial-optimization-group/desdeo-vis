{
 "cells": [
  {
   "cell_type": "code",
   "execution_count": 2,
   "metadata": {},
   "outputs": [],
   "source": [
    "from examples.NarulaWeistroffer import RiverPollution\n",
    "from desdeo.method.NIMBUS import NIMBUS\n",
    "from desdeo.optimization import SciPyDE\n",
    "\n",
    "problem = RiverPollution()\n",
    "method = NIMBUS(problem, SciPyDE)\n",
    "results = method.init_iteration()"
   ]
  },
  {
   "cell_type": "code",
   "execution_count": 3,
   "metadata": {},
   "outputs": [
    {
     "data": {
      "application/vnd.jupyter.widget-view+json": {
       "model_id": "aaba16719df44f33af642485ff623207",
       "version_major": 2,
       "version_minor": 0
      },
      "text/plain": [
       "NimbusPrefWidget(spec={'$schema': 'https://vega.github.io/schema/vega/v3.json', 'width': 400, 'height': 200, '…"
      ]
     },
     "metadata": {},
     "output_type": "display_data"
    }
   ],
   "source": [
    "from desdeo_vis.widget import NimbusPrefWidget\n",
    "pw = NimbusPrefWidget(results, problem)\n",
    "pw"
   ]
  },
  {
   "cell_type": "code",
   "execution_count": 8,
   "metadata": {},
   "outputs": [
    {
     "data": {
      "text/plain": [
       "[[-6.235644741047048,\n",
       "  -3.2555480930644984,\n",
       "  -4.261817558614515,\n",
       "  3.6172699844225624],\n",
       " [-6.14750407023748,\n",
       "  -3.222954107032246,\n",
       "  -5.397103978757739,\n",
       "  3.086626356079165]]"
      ]
     },
     "execution_count": 8,
     "metadata": {},
     "output_type": "execute_result"
    }
   ],
   "source": [
    "results2 = method.next_iteration(preference=pw.nimbus_clf(method))\n",
    "results2"
   ]
  },
  {
   "cell_type": "code",
   "execution_count": null,
   "metadata": {},
   "outputs": [],
   "source": []
  }
 ],
 "metadata": {
  "kernelspec": {
   "display_name": "Python 3",
   "language": "python",
   "name": "python3"
  },
  "language_info": {
   "codemirror_mode": {
    "name": "ipython",
    "version": 3
   },
   "file_extension": ".py",
   "mimetype": "text/x-python",
   "name": "python",
   "nbconvert_exporter": "python",
   "pygments_lexer": "ipython3",
   "version": "3.6.5rc1"
  }
 },
 "nbformat": 4,
 "nbformat_minor": 2
}
