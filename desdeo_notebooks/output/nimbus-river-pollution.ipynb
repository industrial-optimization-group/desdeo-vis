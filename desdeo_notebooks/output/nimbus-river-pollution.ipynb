{
 "cells": [
  {
   "cell_type": "markdown",
   "metadata": {},
   "source": [
    "# Solving the river pollution problem using NIMBUS\n",
    "\n",
    "Welcome to this notebook demonstrating the DESDEO interactive multi-objective optimisation framework.\n",
    "\n",
    "In this notebook we will consider a toy problem dealing with water quality management, and the pollution produced by a fishery. We want to maximise the water quality as measured in two locations: the fishery and a downstream city (the measurements are based on dissolved oxygen concentration). Additionally, we want to maximise the ROI (Return On Investment) of the fishery. Simultaneously we want to minimise the additional tax which residents of the city must pay.\n",
    "\n",
    "To run this example, you need to run each individual code block (the ones saying `In [ ]:` to their left) by clicking on each one and then clicking \"Run\". Please refer to the [background section of the documentation](http://desdeo.readthedocs.io/en/latest/background/index.html) for information about NIMBUS.\n",
    "\n",
    "## Imports\n",
    "\n",
    "This first code snippet simply imports the parts of DESDEO we need for this notebook. We import optimisation methods, NIMBUS and the RiverPollution problem definition from the desdeo module, and visualisation and preference selection tools and widgets from the desdeo_vis module."
   ]
  },
  {
   "cell_type": "code",
   "execution_count": 1,
   "metadata": {},
   "outputs": [],
   "source": [
    "from desdeo.method.NIMBUS import NIMBUS\n",
    "from desdeo.optimization import SciPyDE\n",
    "from desdeo.problem.toy import RiverPollution\n",
    "\n",
    "from desdeo_vis.widget import NimbusPrefWidget, ParplotWidget"
   ]
  },
  {
   "cell_type": "markdown",
   "metadata": {},
   "source": [
    "## Initial iteration and preference selection\n",
    "\n",
    "First we initialise the RiverPollution problem and the NIMBUS solution method. Then we get an initial result. We can plot solutions at any time using `parplot`. "
   ]
  },
  {
   "cell_type": "code",
   "execution_count": 2,
   "metadata": {},
   "outputs": [
    {
     "data": {
      "application/vnd.jupyter.widget-view+json": {
       "model_id": "55665806479742e68987d7b7e8e06954",
       "version_major": 2,
       "version_minor": 0
      },
      "text/plain": [
       "ParplotWidget(cur_max_as_min=True, maximized=[True, True, True, False], orig_max_as_min=True, spec={'$schema':…"
      ]
     },
     "metadata": {},
     "output_type": "display_data"
    }
   ],
   "source": [
    "problem = RiverPollution()\n",
    "method = NIMBUS(problem, SciPyDE)\n",
    "results = method.init_iteration()\n",
    "\n",
    "ParplotWidget(results.objective_vars, problem)"
   ]
  },
  {
   "cell_type": "markdown",
   "metadata": {},
   "source": [
    "Next, we will give our first preference based on NIMBUS. We construct a `NimbusPrefWidget`, save it to a variable and display it. You can now specify your preferences using the displayed widget. If you're not sure how to use it, read [the documentation on classification in NIMBUS](http://desdeo.readthedocs.io/en/latest/background/classification-in-nimbus.html)."
   ]
  },
  {
   "cell_type": "code",
   "execution_count": 3,
   "metadata": {},
   "outputs": [
    {
     "data": {
      "application/vnd.jupyter.widget-view+json": {
       "model_id": "b543ddf1b3b44419a3dd1a4939328dea",
       "version_major": 2,
       "version_minor": 0
      },
      "text/plain": [
       "NimbusPrefWidget(cur_max_as_min=True, maximized=[True, True, True, False], orig_max_as_min=True, spec={'$schem…"
      ]
     },
     "metadata": {},
     "output_type": "display_data"
    }
   ],
   "source": [
    "pref = NimbusPrefWidget(results.objective_vars, problem)\n",
    "pref"
   ]
  },
  {
   "cell_type": "markdown",
   "metadata": {},
   "source": [
    "## Solutions based on preference\n",
    "\n",
    "We can now generate a new set of results based on this preference. Note that this will raise an `InvalidNimbusPreferencesException` if you run it while the above preferences are invalid."
   ]
  },
  {
   "cell_type": "code",
   "execution_count": 4,
   "metadata": {},
   "outputs": [
    {
     "data": {
      "application/vnd.jupyter.widget-view+json": {
       "model_id": "97703e3589e040a789598543027f89c3",
       "version_major": 2,
       "version_minor": 0
      },
      "text/plain": [
       "ParplotWidget(cur_max_as_min=True, maximized=[True, True, True, False], orig_max_as_min=True, spec={'$schema':…"
      ]
     },
     "metadata": {},
     "output_type": "display_data"
    }
   ],
   "source": [
    "results2_all = method.next_iteration(preference=pref.nimbus_clf(method))\n",
    "\n",
    "ParplotWidget(results2_all.objective_vars, problem)"
   ]
  },
  {
   "cell_type": "markdown",
   "metadata": {},
   "source": [
    "We might choose to generate less extra solutions..."
   ]
  },
  {
   "cell_type": "code",
   "execution_count": 5,
   "metadata": {},
   "outputs": [
    {
     "data": {
      "application/vnd.jupyter.widget-view+json": {
       "model_id": "eb312a1cf3ab490ca9b7af443d63c857",
       "version_major": 2,
       "version_minor": 0
      },
      "text/plain": [
       "ParplotWidget(cur_max_as_min=True, maximized=[True, True, True, False], orig_max_as_min=True, spec={'$schema':…"
      ]
     },
     "metadata": {},
     "output_type": "display_data"
    }
   ],
   "source": [
    "results2_less = method.next_iteration(preference=pref.nimbus_clf(method), num_scalars=2)\n",
    "\n",
    "ParplotWidget(results2_less.objective_vars, problem)"
   ]
  },
  {
   "cell_type": "markdown",
   "metadata": {},
   "source": [
    "We can also choose a subset of scalarization functions from NIM, ACH, GUESS, STOM. These are the NIMBUS scalarization function and the NIMBUS version of the achievement, guess and satisficing trade-off functions respectively."
   ]
  },
  {
   "cell_type": "code",
   "execution_count": 6,
   "metadata": {},
   "outputs": [
    {
     "data": {
      "application/vnd.jupyter.widget-view+json": {
       "model_id": "d7be5736b88442cea6d7064267a3dcb2",
       "version_major": 2,
       "version_minor": 0
      },
      "text/plain": [
       "ParplotWidget(cur_max_as_min=True, maximized=[True, True, True, False], orig_max_as_min=True, spec={'$schema':…"
      ]
     },
     "metadata": {},
     "output_type": "display_data"
    }
   ],
   "source": [
    "results2_spec = method.next_iteration(preference=pref.nimbus_clf(method), scalars=['NIM', 'GUESS', 'STOM'])\n",
    "\n",
    "ParplotWidget(results2_spec.objective_vars, problem)"
   ]
  },
  {
   "cell_type": "markdown",
   "metadata": {},
   "source": [
    "## Generating intermediate solutions\n",
    "\n",
    "If none of these solutions exactly satisfy us, we can generate and view solutions between two solutions we've generated so far. Here we generate 4 solutions between the solutions generated by the NIMBUS and GUESS scalarisation functions."
   ]
  },
  {
   "cell_type": "code",
   "execution_count": 7,
   "metadata": {},
   "outputs": [
    {
     "data": {
      "application/vnd.jupyter.widget-view+json": {
       "model_id": "e499cf1ca5e6410bb5c27b728cf0c757",
       "version_major": 2,
       "version_minor": 0
      },
      "text/plain": [
       "ParplotWidget(cur_max_as_min=True, maximized=[True, True, True, False], orig_max_as_min=True, spec={'$schema':…"
      ]
     },
     "metadata": {},
     "output_type": "display_data"
    }
   ],
   "source": [
    "results3 = method.between(results2_spec.objective_vars[0], results2_spec.objective_vars[1], 4)\n",
    "\n",
    "ParplotWidget(results3.objective_vars, problem)"
   ]
  }
 ],
 "metadata": {
  "kernelspec": {
   "display_name": "Python 3",
   "language": "python",
   "name": "python3"
  },
  "language_info": {
   "codemirror_mode": {
    "name": "ipython",
    "version": 3
   },
   "file_extension": ".py",
   "mimetype": "text/x-python",
   "name": "python",
   "nbconvert_exporter": "python",
   "pygments_lexer": "ipython3",
   "version": "3.6.5rc1"
  },
  "widgets": {
   "application/vnd.jupyter.widget-state+json": {
    "state": {
     "405b349aafdd46459bdc8550575e1789": {
      "model_module": "@jupyter-widgets/base",
      "model_module_version": "1.1.0",
      "model_name": "LayoutModel",
      "state": {}
     },
     "55665806479742e68987d7b7e8e06954": {
      "model_module": "desdeo_vis",
      "model_module_version": "1.0.0",
      "model_name": "ParplotModel",
      "state": {
       "_model_name": "ParplotModel",
       "_view_name": "ParplotView",
       "cur_max_as_min": true,
       "layout": "IPY_MODEL_405b349aafdd46459bdc8550575e1789",
       "maximized": [
        true,
        true,
        true,
        false
       ],
       "orig_max_as_min": true,
       "spec": {
        "$schema": "https://vega.github.io/schema/vega/v3.json",
        "axes": [
         {
          "format": ".5",
          "offset": {
           "mult": -1,
           "scale": "ord",
           "value": "Water Quality Fishery"
          },
          "orient": "left",
          "scale": "Water Quality Fishery",
          "title": "Water Quality Fishery",
          "values": [
           -6.34,
           -6,
           -5.5,
           -5,
           -4.5,
           -4.07
          ],
          "zindex": 1
         },
         {
          "format": ".5",
          "offset": {
           "mult": -1,
           "scale": "ord",
           "value": "Water Quality City"
          },
          "orient": "left",
          "scale": "Water Quality City",
          "title": "Water Quality City",
          "values": [
           -3.45,
           -3.4,
           -3.3,
           -3.2,
           -3.1,
           -3,
           -2.9,
           -2.82
          ],
          "zindex": 1
         },
         {
          "format": ".5",
          "offset": {
           "mult": -1,
           "scale": "ord",
           "value": "Fishery ROI"
          },
          "orient": "left",
          "scale": "Fishery ROI",
          "title": "Fishery ROI",
          "values": [
           -7.56,
           -7,
           -6,
           -5,
           -4,
           -3,
           -2,
           -1,
           -0.32
          ],
          "zindex": 1
         },
         {
          "format": ".5",
          "offset": {
           "mult": -1,
           "scale": "ord",
           "value": "City Tax Increase"
          },
          "orient": "left",
          "scale": "City Tax Increase",
          "title": "City Tax Increase",
          "values": [
           -0.08,
           0,
           2,
           4,
           6,
           8,
           9.71
          ],
          "zindex": 1
         }
        ],
        "config": {
         "axisY": {
          "titleAlign": "right",
          "titleAngle": -30,
          "titleBaseline": "top",
          "titleX": -5,
          "titleY": 205
         }
        },
        "data": [
         {
          "name": "main",
          "values": [
           {
            "City Tax Increase": -0.07926272647213639,
            "Fishery ROI": -6.412779380678508,
            "Water Quality City": -2.848071854807832,
            "Water Quality Fishery": -5.962349051851014
           }
          ]
         },
         {
          "name": "fields",
          "values": [
           "Water Quality Fishery",
           "Water Quality City",
           "Fishery ROI",
           "City Tax Increase"
          ]
         }
        ],
        "height": 200,
        "marks": [
         {
          "clip": {
           "path": "M -40 -20 H 500 V 220 H -40 Z"
          },
          "from": {
           "data": "main"
          },
          "marks": [
           {
            "encode": {
             "enter": {
              "stroke": {
               "value": "red"
              },
              "strokeOpacity": {
               "value": 1
              },
              "strokeWidth": {
               "value": 1.01
              },
              "x": {
               "field": "data",
               "scale": "ord"
              },
              "y": {
               "field": {
                "parent": {
                 "datum": "data"
                }
               },
               "scale": {
                "datum": "data"
               }
              }
             }
            },
            "from": {
             "data": "fields"
            },
            "type": "line"
           },
           {
            "encode": {
             "enter": {
              "text": {
               "signal": "format(parent[datum.data], \".5\")"
              },
              "x": {
               "field": "data",
               "offset": 4,
               "scale": "ord"
              },
              "y": {
               "field": {
                "parent": {
                 "datum": "data"
                }
               },
               "scale": {
                "datum": "data"
               }
              }
             }
            },
            "from": {
             "data": "fields"
            },
            "type": "text"
           },
           {
            "encode": {
             "enter": {
              "stroke": {
               "value": "black"
              },
              "tooltip": {
               "signal": "parent[datum.data]"
              },
              "x": {
               "field": "data",
               "scale": "ord"
              },
              "y": {
               "field": {
                "parent": {
                 "datum": "data"
                }
               },
               "scale": {
                "datum": "data"
               }
              }
             }
            },
            "from": {
             "data": "fields"
            },
            "type": "symbol"
           }
          ],
          "type": "group"
         }
        ],
        "padding": 5,
        "scales": [
         {
          "domain": {
           "data": "fields",
           "field": "data"
          },
          "name": "ord",
          "range": "width",
          "type": "point"
         },
         {
          "domain": [
           -6.34,
           -4.07
          ],
          "name": "Water Quality Fishery",
          "range": "height",
          "type": "linear",
          "zero": false
         },
         {
          "domain": [
           -3.45,
           -2.82
          ],
          "name": "Water Quality City",
          "range": "height",
          "type": "linear",
          "zero": false
         },
         {
          "domain": [
           -7.56,
           -0.32
          ],
          "name": "Fishery ROI",
          "range": "height",
          "type": "linear",
          "zero": false
         },
         {
          "domain": [
           -0.08,
           9.71
          ],
          "name": "City Tax Increase",
          "range": "height",
          "type": "linear",
          "zero": false
         }
        ],
        "width": 400
       }
      }
     },
     "7b7bcbdbd6f8473d98e7d4c5c93e1232": {
      "model_module": "@jupyter-widgets/base",
      "model_module_version": "1.1.0",
      "model_name": "LayoutModel",
      "state": {}
     },
     "8b97317c34a343b5b0b0eaae00aeb50c": {
      "model_module": "@jupyter-widgets/base",
      "model_module_version": "1.1.0",
      "model_name": "LayoutModel",
      "state": {}
     },
     "97703e3589e040a789598543027f89c3": {
      "model_module": "desdeo_vis",
      "model_module_version": "1.0.0",
      "model_name": "ParplotModel",
      "state": {
       "_model_name": "ParplotModel",
       "_view_name": "ParplotView",
       "cur_max_as_min": true,
       "layout": "IPY_MODEL_7b7bcbdbd6f8473d98e7d4c5c93e1232",
       "maximized": [
        true,
        true,
        true,
        false
       ],
       "orig_max_as_min": true,
       "spec": {
        "$schema": "https://vega.github.io/schema/vega/v3.json",
        "axes": [
         {
          "format": ".5",
          "offset": {
           "mult": -1,
           "scale": "ord",
           "value": "Water Quality Fishery"
          },
          "orient": "left",
          "scale": "Water Quality Fishery",
          "title": "Water Quality Fishery",
          "values": [
           -6.34,
           -6,
           -5.5,
           -5,
           -4.5,
           -4.07
          ],
          "zindex": 1
         },
         {
          "format": ".5",
          "offset": {
           "mult": -1,
           "scale": "ord",
           "value": "Water Quality City"
          },
          "orient": "left",
          "scale": "Water Quality City",
          "title": "Water Quality City",
          "values": [
           -3.45,
           -3.4,
           -3.3,
           -3.2,
           -3.1,
           -3,
           -2.9,
           -2.82
          ],
          "zindex": 1
         },
         {
          "format": ".5",
          "offset": {
           "mult": -1,
           "scale": "ord",
           "value": "Fishery ROI"
          },
          "orient": "left",
          "scale": "Fishery ROI",
          "title": "Fishery ROI",
          "values": [
           -7.56,
           -7,
           -6,
           -5,
           -4,
           -3,
           -2,
           -1,
           -0.32
          ],
          "zindex": 1
         },
         {
          "format": ".5",
          "offset": {
           "mult": -1,
           "scale": "ord",
           "value": "City Tax Increase"
          },
          "orient": "left",
          "scale": "City Tax Increase",
          "title": "City Tax Increase",
          "values": [
           -0.08,
           0,
           2,
           4,
           6,
           8,
           9.71
          ],
          "zindex": 1
         }
        ],
        "config": {
         "axisY": {
          "titleAlign": "right",
          "titleAngle": -30,
          "titleBaseline": "top",
          "titleX": -5,
          "titleY": 205
         }
        },
        "data": [
         {
          "name": "main",
          "values": [
           {
            "City Tax Increase": 2.0248598004703684,
            "Fishery ROI": -4.254289914067073,
            "Water Quality City": -3.144852086272207,
            "Water Quality Fishery": -6.236051830145123
           },
           {
            "City Tax Increase": 2.4192878021256776,
            "Fishery ROI": -5.2227313290749535,
            "Water Quality City": -3.1763970067773712,
            "Water Quality Fishery": -6.165696520942911
           },
           {
            "City Tax Increase": 4.032332552158492,
            "Fishery ROI": -0.3211111112240248,
            "Water Quality City": -3.2786533455734013,
            "Water Quality Fishery": -6.339999999998538
           },
           {
            "City Tax Increase": 2.304118310869996,
            "Fishery ROI": -3.2061425743470187,
            "Water Quality City": -3.1688453820679054,
            "Water Quality Fishery": -6.280319721126849
           }
          ]
         },
         {
          "name": "fields",
          "values": [
           "Water Quality Fishery",
           "Water Quality City",
           "Fishery ROI",
           "City Tax Increase"
          ]
         }
        ],
        "height": 200,
        "marks": [
         {
          "clip": {
           "path": "M -40 -20 H 500 V 220 H -40 Z"
          },
          "from": {
           "data": "main"
          },
          "marks": [
           {
            "encode": {
             "enter": {
              "stroke": {
               "value": "red"
              },
              "strokeOpacity": {
               "value": 1
              },
              "strokeWidth": {
               "value": 1.01
              },
              "x": {
               "field": "data",
               "scale": "ord"
              },
              "y": {
               "field": {
                "parent": {
                 "datum": "data"
                }
               },
               "scale": {
                "datum": "data"
               }
              }
             }
            },
            "from": {
             "data": "fields"
            },
            "type": "line"
           },
           {
            "encode": {
             "enter": {
              "text": {
               "signal": "format(parent[datum.data], \".5\")"
              },
              "x": {
               "field": "data",
               "offset": 4,
               "scale": "ord"
              },
              "y": {
               "field": {
                "parent": {
                 "datum": "data"
                }
               },
               "scale": {
                "datum": "data"
               }
              }
             }
            },
            "from": {
             "data": "fields"
            },
            "type": "text"
           },
           {
            "encode": {
             "enter": {
              "stroke": {
               "value": "black"
              },
              "tooltip": {
               "signal": "parent[datum.data]"
              },
              "x": {
               "field": "data",
               "scale": "ord"
              },
              "y": {
               "field": {
                "parent": {
                 "datum": "data"
                }
               },
               "scale": {
                "datum": "data"
               }
              }
             }
            },
            "from": {
             "data": "fields"
            },
            "type": "symbol"
           }
          ],
          "type": "group"
         }
        ],
        "padding": 5,
        "scales": [
         {
          "domain": {
           "data": "fields",
           "field": "data"
          },
          "name": "ord",
          "range": "width",
          "type": "point"
         },
         {
          "domain": [
           -6.34,
           -4.07
          ],
          "name": "Water Quality Fishery",
          "range": "height",
          "type": "linear",
          "zero": false
         },
         {
          "domain": [
           -3.45,
           -2.82
          ],
          "name": "Water Quality City",
          "range": "height",
          "type": "linear",
          "zero": false
         },
         {
          "domain": [
           -7.56,
           -0.32
          ],
          "name": "Fishery ROI",
          "range": "height",
          "type": "linear",
          "zero": false
         },
         {
          "domain": [
           -0.08,
           9.71
          ],
          "name": "City Tax Increase",
          "range": "height",
          "type": "linear",
          "zero": false
         }
        ],
        "width": 400
       }
      }
     },
     "9f3887e8047e4a72ad017e113bae4b40": {
      "model_module": "@jupyter-widgets/base",
      "model_module_version": "1.1.0",
      "model_name": "LayoutModel",
      "state": {}
     },
     "b543ddf1b3b44419a3dd1a4939328dea": {
      "model_module": "desdeo_vis",
      "model_module_version": "1.0.0",
      "model_name": "NimbusPrefModel",
      "state": {
       "_model_name": "NimbusPrefModel",
       "_view_name": "NimbusPrefView",
       "cur_max_as_min": true,
       "layout": "IPY_MODEL_8b97317c34a343b5b0b0eaae00aeb50c",
       "maximized": [
        true,
        true,
        true,
        false
       ],
       "orig_max_as_min": true,
       "prefs": [
        {
         "kind": ">=",
         "val": "-5.01659"
        },
        {
         "kind": "<=",
         "val": "-3.20178"
        },
        {
         "kind": "="
        },
        {
         "kind": ">=",
         "val": "2.02485"
        }
       ],
       "prob": null,
       "spec": {
        "$schema": "https://vega.github.io/schema/vega/v3.json",
        "axes": [
         {
          "format": ".5",
          "offset": {
           "mult": -1,
           "scale": "ord",
           "value": "Water Quality Fishery"
          },
          "orient": "left",
          "scale": "Water Quality Fishery",
          "title": "Water Quality Fishery",
          "values": [
           -6.34,
           -6,
           -5.5,
           -5,
           -4.5,
           -4.07
          ],
          "zindex": 1
         },
         {
          "format": ".5",
          "offset": {
           "mult": -1,
           "scale": "ord",
           "value": "Water Quality City"
          },
          "orient": "left",
          "scale": "Water Quality City",
          "title": "Water Quality City",
          "values": [
           -3.45,
           -3.4,
           -3.3,
           -3.2,
           -3.1,
           -3,
           -2.9,
           -2.82
          ],
          "zindex": 1
         },
         {
          "format": ".5",
          "offset": {
           "mult": -1,
           "scale": "ord",
           "value": "Fishery ROI"
          },
          "orient": "left",
          "scale": "Fishery ROI",
          "title": "Fishery ROI",
          "values": [
           -7.56,
           -7,
           -6,
           -5,
           -4,
           -3,
           -2,
           -1,
           -0.32
          ],
          "zindex": 1
         },
         {
          "format": ".5",
          "offset": {
           "mult": -1,
           "scale": "ord",
           "value": "City Tax Increase"
          },
          "orient": "left",
          "scale": "City Tax Increase",
          "title": "City Tax Increase",
          "values": [
           -0.08,
           0,
           2,
           4,
           6,
           8,
           9.71
          ],
          "zindex": 1
         }
        ],
        "config": {
         "axisY": {
          "titleAlign": "right",
          "titleAngle": -30,
          "titleBaseline": "top",
          "titleX": -5,
          "titleY": 205
         }
        },
        "data": [
         {
          "name": "main",
          "values": [
           {
            "City Tax Increase": -0.07926272647213639,
            "Fishery ROI": -6.412779380678508,
            "Water Quality City": -2.848071854807832,
            "Water Quality Fishery": -5.962349051851014
           }
          ]
         },
         {
          "name": "fields",
          "values": [
           "Water Quality Fishery",
           "Water Quality City",
           "Fishery ROI",
           "City Tax Increase"
          ]
         }
        ],
        "height": 200,
        "marks": [
         {
          "clip": {
           "path": "M -40 -20 H 500 V 220 H -40 Z"
          },
          "from": {
           "data": "main"
          },
          "marks": [
           {
            "encode": {
             "enter": {
              "stroke": {
               "value": "red"
              },
              "strokeOpacity": {
               "value": 1
              },
              "strokeWidth": {
               "value": 1.01
              },
              "x": {
               "field": "data",
               "scale": "ord"
              },
              "y": {
               "field": {
                "parent": {
                 "datum": "data"
                }
               },
               "scale": {
                "datum": "data"
               }
              }
             }
            },
            "from": {
             "data": "fields"
            },
            "type": "line"
           },
           {
            "encode": {
             "enter": {
              "text": {
               "signal": "format(parent[datum.data], \".5\")"
              },
              "x": {
               "field": "data",
               "offset": 4,
               "scale": "ord"
              },
              "y": {
               "field": {
                "parent": {
                 "datum": "data"
                }
               },
               "scale": {
                "datum": "data"
               }
              }
             }
            },
            "from": {
             "data": "fields"
            },
            "type": "text"
           },
           {
            "encode": {
             "enter": {
              "stroke": {
               "value": "black"
              },
              "tooltip": {
               "signal": "parent[datum.data]"
              },
              "x": {
               "field": "data",
               "scale": "ord"
              },
              "y": {
               "field": {
                "parent": {
                 "datum": "data"
                }
               },
               "scale": {
                "datum": "data"
               }
              }
             }
            },
            "from": {
             "data": "fields"
            },
            "type": "symbol"
           }
          ],
          "type": "group"
         }
        ],
        "padding": 5,
        "scales": [
         {
          "domain": {
           "data": "fields",
           "field": "data"
          },
          "name": "ord",
          "range": "width",
          "type": "point"
         },
         {
          "domain": [
           -6.34,
           -4.07
          ],
          "name": "Water Quality Fishery",
          "range": "height",
          "type": "linear",
          "zero": false
         },
         {
          "domain": [
           -3.45,
           -2.82
          ],
          "name": "Water Quality City",
          "range": "height",
          "type": "linear",
          "zero": false
         },
         {
          "domain": [
           -7.56,
           -0.32
          ],
          "name": "Fishery ROI",
          "range": "height",
          "type": "linear",
          "zero": false
         },
         {
          "domain": [
           -0.08,
           9.71
          ],
          "name": "City Tax Increase",
          "range": "height",
          "type": "linear",
          "zero": false
         }
        ],
        "width": 400
       }
      }
     },
     "b66734302c914ad7a286161ce412b047": {
      "model_module": "@jupyter-widgets/base",
      "model_module_version": "1.1.0",
      "model_name": "LayoutModel",
      "state": {}
     },
     "c07da8e408cc46f0b3e5ba4ca9187b01": {
      "model_module": "@jupyter-widgets/base",
      "model_module_version": "1.1.0",
      "model_name": "LayoutModel",
      "state": {}
     },
     "d7be5736b88442cea6d7064267a3dcb2": {
      "model_module": "desdeo_vis",
      "model_module_version": "1.0.0",
      "model_name": "ParplotModel",
      "state": {
       "_model_name": "ParplotModel",
       "_view_name": "ParplotView",
       "cur_max_as_min": true,
       "layout": "IPY_MODEL_9f3887e8047e4a72ad017e113bae4b40",
       "maximized": [
        true,
        true,
        true,
        false
       ],
       "orig_max_as_min": true,
       "spec": {
        "$schema": "https://vega.github.io/schema/vega/v3.json",
        "axes": [
         {
          "format": ".5",
          "offset": {
           "mult": -1,
           "scale": "ord",
           "value": "Water Quality Fishery"
          },
          "orient": "left",
          "scale": "Water Quality Fishery",
          "title": "Water Quality Fishery",
          "values": [
           -6.34,
           -6,
           -5.5,
           -5,
           -4.5,
           -4.07
          ],
          "zindex": 1
         },
         {
          "format": ".5",
          "offset": {
           "mult": -1,
           "scale": "ord",
           "value": "Water Quality City"
          },
          "orient": "left",
          "scale": "Water Quality City",
          "title": "Water Quality City",
          "values": [
           -3.45,
           -3.4,
           -3.3,
           -3.2,
           -3.1,
           -3,
           -2.9,
           -2.82
          ],
          "zindex": 1
         },
         {
          "format": ".5",
          "offset": {
           "mult": -1,
           "scale": "ord",
           "value": "Fishery ROI"
          },
          "orient": "left",
          "scale": "Fishery ROI",
          "title": "Fishery ROI",
          "values": [
           -7.56,
           -7,
           -6,
           -5,
           -4,
           -3,
           -2,
           -1,
           -0.32
          ],
          "zindex": 1
         },
         {
          "format": ".5",
          "offset": {
           "mult": -1,
           "scale": "ord",
           "value": "City Tax Increase"
          },
          "orient": "left",
          "scale": "City Tax Increase",
          "title": "City Tax Increase",
          "values": [
           -0.08,
           0,
           2,
           4,
           6,
           8,
           9.71
          ],
          "zindex": 1
         }
        ],
        "config": {
         "axisY": {
          "titleAlign": "right",
          "titleAngle": -30,
          "titleBaseline": "top",
          "titleX": -5,
          "titleY": 205
         }
        },
        "data": [
         {
          "name": "main",
          "values": [
           {
            "City Tax Increase": 2.024859999487582,
            "Fishery ROI": -4.254133418283358,
            "Water Quality City": -3.144852215340604,
            "Water Quality Fishery": -6.236060276064418
           },
           {
            "City Tax Increase": 4.032292164829868,
            "Fishery ROI": -0.32111111111111956,
            "Water Quality City": -3.278651339294357,
            "Water Quality Fishery": -6.34
           },
           {
            "City Tax Increase": 2.304129837709524,
            "Fishery ROI": -3.2113821541778327,
            "Water Quality City": -3.1688440146068944,
            "Water Quality Fishery": -6.280146347273692
           }
          ]
         },
         {
          "name": "fields",
          "values": [
           "Water Quality Fishery",
           "Water Quality City",
           "Fishery ROI",
           "City Tax Increase"
          ]
         }
        ],
        "height": 200,
        "marks": [
         {
          "clip": {
           "path": "M -40 -20 H 500 V 220 H -40 Z"
          },
          "from": {
           "data": "main"
          },
          "marks": [
           {
            "encode": {
             "enter": {
              "stroke": {
               "value": "red"
              },
              "strokeOpacity": {
               "value": 1
              },
              "strokeWidth": {
               "value": 1.01
              },
              "x": {
               "field": "data",
               "scale": "ord"
              },
              "y": {
               "field": {
                "parent": {
                 "datum": "data"
                }
               },
               "scale": {
                "datum": "data"
               }
              }
             }
            },
            "from": {
             "data": "fields"
            },
            "type": "line"
           },
           {
            "encode": {
             "enter": {
              "text": {
               "signal": "format(parent[datum.data], \".5\")"
              },
              "x": {
               "field": "data",
               "offset": 4,
               "scale": "ord"
              },
              "y": {
               "field": {
                "parent": {
                 "datum": "data"
                }
               },
               "scale": {
                "datum": "data"
               }
              }
             }
            },
            "from": {
             "data": "fields"
            },
            "type": "text"
           },
           {
            "encode": {
             "enter": {
              "stroke": {
               "value": "black"
              },
              "tooltip": {
               "signal": "parent[datum.data]"
              },
              "x": {
               "field": "data",
               "scale": "ord"
              },
              "y": {
               "field": {
                "parent": {
                 "datum": "data"
                }
               },
               "scale": {
                "datum": "data"
               }
              }
             }
            },
            "from": {
             "data": "fields"
            },
            "type": "symbol"
           }
          ],
          "type": "group"
         }
        ],
        "padding": 5,
        "scales": [
         {
          "domain": {
           "data": "fields",
           "field": "data"
          },
          "name": "ord",
          "range": "width",
          "type": "point"
         },
         {
          "domain": [
           -6.34,
           -4.07
          ],
          "name": "Water Quality Fishery",
          "range": "height",
          "type": "linear",
          "zero": false
         },
         {
          "domain": [
           -3.45,
           -2.82
          ],
          "name": "Water Quality City",
          "range": "height",
          "type": "linear",
          "zero": false
         },
         {
          "domain": [
           -7.56,
           -0.32
          ],
          "name": "Fishery ROI",
          "range": "height",
          "type": "linear",
          "zero": false
         },
         {
          "domain": [
           -0.08,
           9.71
          ],
          "name": "City Tax Increase",
          "range": "height",
          "type": "linear",
          "zero": false
         }
        ],
        "width": 400
       }
      }
     },
     "e499cf1ca5e6410bb5c27b728cf0c757": {
      "model_module": "desdeo_vis",
      "model_module_version": "1.0.0",
      "model_name": "ParplotModel",
      "state": {
       "_model_name": "ParplotModel",
       "_view_name": "ParplotView",
       "cur_max_as_min": true,
       "layout": "IPY_MODEL_b66734302c914ad7a286161ce412b047",
       "maximized": [
        true,
        true,
        true,
        false
       ],
       "orig_max_as_min": true,
       "spec": {
        "$schema": "https://vega.github.io/schema/vega/v3.json",
        "axes": [
         {
          "format": ".5",
          "offset": {
           "mult": -1,
           "scale": "ord",
           "value": "Water Quality Fishery"
          },
          "orient": "left",
          "scale": "Water Quality Fishery",
          "title": "Water Quality Fishery",
          "values": [
           -6.34,
           -6,
           -5.5,
           -5,
           -4.5,
           -4.07
          ],
          "zindex": 1
         },
         {
          "format": ".5",
          "offset": {
           "mult": -1,
           "scale": "ord",
           "value": "Water Quality City"
          },
          "orient": "left",
          "scale": "Water Quality City",
          "title": "Water Quality City",
          "values": [
           -3.45,
           -3.4,
           -3.3,
           -3.2,
           -3.1,
           -3,
           -2.9,
           -2.82
          ],
          "zindex": 1
         },
         {
          "format": ".5",
          "offset": {
           "mult": -1,
           "scale": "ord",
           "value": "Fishery ROI"
          },
          "orient": "left",
          "scale": "Fishery ROI",
          "title": "Fishery ROI",
          "values": [
           -7.56,
           -7,
           -6,
           -5,
           -4,
           -3,
           -2,
           -1,
           -0.32
          ],
          "zindex": 1
         },
         {
          "format": ".5",
          "offset": {
           "mult": -1,
           "scale": "ord",
           "value": "City Tax Increase"
          },
          "orient": "left",
          "scale": "City Tax Increase",
          "title": "City Tax Increase",
          "values": [
           -0.08,
           0,
           2,
           4,
           6,
           8,
           9.71
          ],
          "zindex": 1
         }
        ],
        "config": {
         "axisY": {
          "titleAlign": "right",
          "titleAngle": -30,
          "titleBaseline": "top",
          "titleX": -5,
          "titleY": 205
         }
        },
        "data": [
         {
          "name": "main",
          "values": [
           {
            "City Tax Increase": 2.379335963558391,
            "Fishery ROI": -3.5586716309893696,
            "Water Quality City": -3.1746372733946453,
            "Water Quality Fishery": -6.26774857890808
           },
           {
            "City Tax Increase": 2.7571018594026264,
            "Fishery ROI": -2.7520895908685876,
            "Water Quality City": -3.202923569631751,
            "Water Quality Fishery": -6.29403658035217
           },
           {
            "City Tax Increase": 3.152469538884442,
            "Fishery ROI": -1.9421651998612433,
            "Water Quality City": -3.2292966548003315,
            "Water Quality Fishery": -6.31342532715096
           },
           {
            "City Tax Increase": 3.57425828977928,
            "Fishery ROI": -1.1363697993029929,
            "Water Quality City": -3.2543855676688977,
            "Water Quality Fishery": -6.328196193744414
           }
          ]
         },
         {
          "name": "fields",
          "values": [
           "Water Quality Fishery",
           "Water Quality City",
           "Fishery ROI",
           "City Tax Increase"
          ]
         }
        ],
        "height": 200,
        "marks": [
         {
          "clip": {
           "path": "M -40 -20 H 500 V 220 H -40 Z"
          },
          "from": {
           "data": "main"
          },
          "marks": [
           {
            "encode": {
             "enter": {
              "stroke": {
               "value": "red"
              },
              "strokeOpacity": {
               "value": 1
              },
              "strokeWidth": {
               "value": 1.01
              },
              "x": {
               "field": "data",
               "scale": "ord"
              },
              "y": {
               "field": {
                "parent": {
                 "datum": "data"
                }
               },
               "scale": {
                "datum": "data"
               }
              }
             }
            },
            "from": {
             "data": "fields"
            },
            "type": "line"
           },
           {
            "encode": {
             "enter": {
              "text": {
               "signal": "format(parent[datum.data], \".5\")"
              },
              "x": {
               "field": "data",
               "offset": 4,
               "scale": "ord"
              },
              "y": {
               "field": {
                "parent": {
                 "datum": "data"
                }
               },
               "scale": {
                "datum": "data"
               }
              }
             }
            },
            "from": {
             "data": "fields"
            },
            "type": "text"
           },
           {
            "encode": {
             "enter": {
              "stroke": {
               "value": "black"
              },
              "tooltip": {
               "signal": "parent[datum.data]"
              },
              "x": {
               "field": "data",
               "scale": "ord"
              },
              "y": {
               "field": {
                "parent": {
                 "datum": "data"
                }
               },
               "scale": {
                "datum": "data"
               }
              }
             }
            },
            "from": {
             "data": "fields"
            },
            "type": "symbol"
           }
          ],
          "type": "group"
         }
        ],
        "padding": 5,
        "scales": [
         {
          "domain": {
           "data": "fields",
           "field": "data"
          },
          "name": "ord",
          "range": "width",
          "type": "point"
         },
         {
          "domain": [
           -6.34,
           -4.07
          ],
          "name": "Water Quality Fishery",
          "range": "height",
          "type": "linear",
          "zero": false
         },
         {
          "domain": [
           -3.45,
           -2.82
          ],
          "name": "Water Quality City",
          "range": "height",
          "type": "linear",
          "zero": false
         },
         {
          "domain": [
           -7.56,
           -0.32
          ],
          "name": "Fishery ROI",
          "range": "height",
          "type": "linear",
          "zero": false
         },
         {
          "domain": [
           -0.08,
           9.71
          ],
          "name": "City Tax Increase",
          "range": "height",
          "type": "linear",
          "zero": false
         }
        ],
        "width": 400
       }
      }
     },
     "eb312a1cf3ab490ca9b7af443d63c857": {
      "model_module": "desdeo_vis",
      "model_module_version": "1.0.0",
      "model_name": "ParplotModel",
      "state": {
       "_model_name": "ParplotModel",
       "_view_name": "ParplotView",
       "cur_max_as_min": true,
       "layout": "IPY_MODEL_c07da8e408cc46f0b3e5ba4ca9187b01",
       "maximized": [
        true,
        true,
        true,
        false
       ],
       "orig_max_as_min": true,
       "spec": {
        "$schema": "https://vega.github.io/schema/vega/v3.json",
        "axes": [
         {
          "format": ".5",
          "offset": {
           "mult": -1,
           "scale": "ord",
           "value": "Water Quality Fishery"
          },
          "orient": "left",
          "scale": "Water Quality Fishery",
          "title": "Water Quality Fishery",
          "values": [
           -6.34,
           -6,
           -5.5,
           -5,
           -4.5,
           -4.07
          ],
          "zindex": 1
         },
         {
          "format": ".5",
          "offset": {
           "mult": -1,
           "scale": "ord",
           "value": "Water Quality City"
          },
          "orient": "left",
          "scale": "Water Quality City",
          "title": "Water Quality City",
          "values": [
           -3.45,
           -3.4,
           -3.3,
           -3.2,
           -3.1,
           -3,
           -2.9,
           -2.82
          ],
          "zindex": 1
         },
         {
          "format": ".5",
          "offset": {
           "mult": -1,
           "scale": "ord",
           "value": "Fishery ROI"
          },
          "orient": "left",
          "scale": "Fishery ROI",
          "title": "Fishery ROI",
          "values": [
           -7.56,
           -7,
           -6,
           -5,
           -4,
           -3,
           -2,
           -1,
           -0.32
          ],
          "zindex": 1
         },
         {
          "format": ".5",
          "offset": {
           "mult": -1,
           "scale": "ord",
           "value": "City Tax Increase"
          },
          "orient": "left",
          "scale": "City Tax Increase",
          "title": "City Tax Increase",
          "values": [
           -0.08,
           0,
           2,
           4,
           6,
           8,
           9.71
          ],
          "zindex": 1
         }
        ],
        "config": {
         "axisY": {
          "titleAlign": "right",
          "titleAngle": -30,
          "titleBaseline": "top",
          "titleX": -5,
          "titleY": 205
         }
        },
        "data": [
         {
          "name": "main",
          "values": [
           {
            "City Tax Increase": 2.0248599993795566,
            "Fishery ROI": -4.2541829224585,
            "Water Quality City": -3.1448521800234523,
            "Water Quality Fishery": -6.236057604449935
           },
           {
            "City Tax Increase": 2.4192847586740167,
            "Fishery ROI": -5.2223981127126216,
            "Water Quality City": -3.176397202138222,
            "Water Quality Fishery": -6.165729110436191
           }
          ]
         },
         {
          "name": "fields",
          "values": [
           "Water Quality Fishery",
           "Water Quality City",
           "Fishery ROI",
           "City Tax Increase"
          ]
         }
        ],
        "height": 200,
        "marks": [
         {
          "clip": {
           "path": "M -40 -20 H 500 V 220 H -40 Z"
          },
          "from": {
           "data": "main"
          },
          "marks": [
           {
            "encode": {
             "enter": {
              "stroke": {
               "value": "red"
              },
              "strokeOpacity": {
               "value": 1
              },
              "strokeWidth": {
               "value": 1.01
              },
              "x": {
               "field": "data",
               "scale": "ord"
              },
              "y": {
               "field": {
                "parent": {
                 "datum": "data"
                }
               },
               "scale": {
                "datum": "data"
               }
              }
             }
            },
            "from": {
             "data": "fields"
            },
            "type": "line"
           },
           {
            "encode": {
             "enter": {
              "text": {
               "signal": "format(parent[datum.data], \".5\")"
              },
              "x": {
               "field": "data",
               "offset": 4,
               "scale": "ord"
              },
              "y": {
               "field": {
                "parent": {
                 "datum": "data"
                }
               },
               "scale": {
                "datum": "data"
               }
              }
             }
            },
            "from": {
             "data": "fields"
            },
            "type": "text"
           },
           {
            "encode": {
             "enter": {
              "stroke": {
               "value": "black"
              },
              "tooltip": {
               "signal": "parent[datum.data]"
              },
              "x": {
               "field": "data",
               "scale": "ord"
              },
              "y": {
               "field": {
                "parent": {
                 "datum": "data"
                }
               },
               "scale": {
                "datum": "data"
               }
              }
             }
            },
            "from": {
             "data": "fields"
            },
            "type": "symbol"
           }
          ],
          "type": "group"
         }
        ],
        "padding": 5,
        "scales": [
         {
          "domain": {
           "data": "fields",
           "field": "data"
          },
          "name": "ord",
          "range": "width",
          "type": "point"
         },
         {
          "domain": [
           -6.34,
           -4.07
          ],
          "name": "Water Quality Fishery",
          "range": "height",
          "type": "linear",
          "zero": false
         },
         {
          "domain": [
           -3.45,
           -2.82
          ],
          "name": "Water Quality City",
          "range": "height",
          "type": "linear",
          "zero": false
         },
         {
          "domain": [
           -7.56,
           -0.32
          ],
          "name": "Fishery ROI",
          "range": "height",
          "type": "linear",
          "zero": false
         },
         {
          "domain": [
           -0.08,
           9.71
          ],
          "name": "City Tax Increase",
          "range": "height",
          "type": "linear",
          "zero": false
         }
        ],
        "width": 400
       }
      }
     }
    },
    "version_major": 2,
    "version_minor": 0
   }
  }
 },
 "nbformat": 4,
 "nbformat_minor": 2
}
