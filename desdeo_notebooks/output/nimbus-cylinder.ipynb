{
 "cells": [
  {
   "cell_type": "markdown",
   "metadata": {},
   "source": [
    "# Solving the cylinder problem using NIMBUS\n",
    "\n",
    "Let's consider a cell shaped like a cylinder, that is, a circular cross-sectional prism. The shape of the cell is here determined by two quantities, its radius $x_1$ and its height $x_2$. We want to maximize the volume of the cylinder and minimize the surface area. In addition to this, cylinder's height should be close to 15 units.\n",
    "\n",
    "The volume of a cylinder is the product of its base area and height. A cylinder can be cut and unrolled into a rectangle and the surface area of this rectangle is the product of its height and the perimeter of the circle $2\\pi x_1 x_2$. The sum of the cylinder's two flat circular caps is $2\\pi x_1^2$. The total surface area of the cylinder with flat circular ends is then $2\\pi x_1^2 + 2\\pi x_1 x_2$.\n",
    "\n",
    "Three functions can be made from the above information: the one describing the volume of the cylinder, the other telling the surface area and the last measuring the height difference.\n",
    "\n",
    "So the problem is:\n",
    "\n",
    "maximize Volume = $\\pi x_1^2  x_2$  \n",
    "minimize SurfaceArea = $2\\pi x_1^2 + 2\\pi x_1 x_2$  \n",
    "minimize HeightDiff = $|x2-15.0|$\n",
    "\n",
    "Let's assume that the cylinder's height must be greater or equal to its width. This information gives us the following constraint:\n",
    "\n",
    "$g(x) = 2x_1 - x_2 \\leq 0$\n",
    "\n",
    "To run this example, you need to run each individual code block (the ones saying `In [ ]:` to their left) by clicking on each one and then clicking \"Run\". Please refer to the [background section of the documentation](http://desdeo.readthedocs.io/en/latest/background/index.html) for information about NIMBUS.\n",
    "\n",
    "## Imports\n",
    "\n",
    "This first code snippet simply imports the parts of DESDEO we need for this notebook. We import optimisation methods, NIMBUS and the CylinderProblem problem definition from the desdeo module, and visualisation and preference selection tools and widgets from the desdeo_vis module."
   ]
  },
  {
   "cell_type": "code",
   "execution_count": 1,
   "metadata": {},
   "outputs": [],
   "source": [
    "from desdeo.method.NIMBUS import NIMBUS\n",
    "from desdeo.optimization import SciPyDE\n",
    "from desdeo.problem.toy import CylinderProblem\n",
    "\n",
    "from desdeo_vis.widget import NimbusPrefWidget, ParplotWidget"
   ]
  },
  {
   "cell_type": "markdown",
   "metadata": {},
   "source": [
    "## Getting a solutions based on a preference\n",
    "\n",
    "First we initialise the `CylinderProblem` problem and the `NIMBUS` solution method. Then we get an initial result. We can plot solutions at any time using `ParplotWidget`."
   ]
  },
  {
   "cell_type": "code",
   "execution_count": 2,
   "metadata": {},
   "outputs": [
    {
     "data": {
      "application/vnd.jupyter.widget-view+json": {
       "model_id": "2c265ca232184ecfb8ed0e8ae7f81bea",
       "version_major": 2,
       "version_minor": 0
      },
      "text/plain": [
       "ParplotWidget(cur_max_as_min=True, maximized=[True, False], orig_max_as_min=True, spec={'$schema': 'https://ve…"
      ]
     },
     "metadata": {},
     "output_type": "display_data"
    }
   ],
   "source": [
    "problem = CylinderProblem()\n",
    "method = NIMBUS(problem, SciPyDE)\n",
    "results = method.init_iteration()\n",
    "\n",
    "ParplotWidget(results.objective_vars, problem)"
   ]
  },
  {
   "cell_type": "markdown",
   "metadata": {},
   "source": [
    "The first solution we get from NIMBUS is reasonable. However, we want to increase the cylinder's volume as much as possible, still keeping the surface area and height difference low.\n",
    "\n",
    "To do this, first display a `NimbusPrefWidget`. After executing the cell, a widget will display which you can use as follows:\n",
    " * For now we let the volume vary freely by selecting `<>` from the leftmost dropdown.\n",
    " * The next column has the preferences for the surface area function. We want to know how much the volume will be when the surface area is less than 1900, so we set the dropdown to `>=` and type `1900` into the textbox next to it.\n",
    " * For height difference, we won't accept a worse solution than the current one, so we set the dropdown to `<=`."
   ]
  },
  {
   "cell_type": "code",
   "execution_count": 3,
   "metadata": {},
   "outputs": [
    {
     "data": {
      "application/vnd.jupyter.widget-view+json": {
       "model_id": "b0b4fcd2138f4ba6bcb353694289fbdb",
       "version_major": 2,
       "version_minor": 0
      },
      "text/plain": [
       "NimbusPrefWidget(cur_max_as_min=True, maximized=[True, False], orig_max_as_min=True, spec={'$schema': 'https:/…"
      ]
     },
     "metadata": {},
     "output_type": "display_data"
    }
   ],
   "source": [
    "pref = NimbusPrefWidget(results.objective_vars, problem)\n",
    "pref"
   ]
  },
  {
   "cell_type": "markdown",
   "metadata": {},
   "source": [
    "Now we can plot the solutions given by NIMBUS."
   ]
  },
  {
   "cell_type": "code",
   "execution_count": 5,
   "metadata": {},
   "outputs": [
    {
     "name": "stdout",
     "output_type": "stream",
     "text": [
      "INFEASIBLE 277.360873\n"
     ]
    },
    {
     "data": {
      "application/vnd.jupyter.widget-view+json": {
       "model_id": "ea3979b087c64d008201274a7643a094",
       "version_major": 2,
       "version_minor": 0
      },
      "text/plain": [
       "ParplotWidget(cur_max_as_min=True, maximized=[True, False], orig_max_as_min=True, spec={'$schema': 'https://ve…"
      ]
     },
     "metadata": {},
     "output_type": "display_data"
    }
   ],
   "source": [
    "results2 = method.next_iteration(preference=pref.nimbus_clf(method))\n",
    "\n",
    "ParplotWidget(results2.objective_vars, problem)"
   ]
  }
 ],
 "metadata": {
  "kernelspec": {
   "display_name": "Python 3",
   "language": "python",
   "name": "python3"
  },
  "language_info": {
   "codemirror_mode": {
    "name": "ipython",
    "version": 3
   },
   "file_extension": ".py",
   "mimetype": "text/x-python",
   "name": "python",
   "nbconvert_exporter": "python",
   "pygments_lexer": "ipython3",
   "version": "3.6.5rc1"
  },
  "widgets": {
   "application/vnd.jupyter.widget-state+json": {
    "state": {
     "0e2bd89ab9854ba6b2bf52f29214e405": {
      "model_module": "@jupyter-widgets/base",
      "model_module_version": "1.1.0",
      "model_name": "LayoutModel",
      "state": {}
     },
     "2c265ca232184ecfb8ed0e8ae7f81bea": {
      "model_module": "desdeo_vis",
      "model_module_version": "1.0.0",
      "model_name": "ParplotModel",
      "state": {
       "_model_name": "ParplotModel",
       "_view_name": "ParplotView",
       "cur_max_as_min": true,
       "layout": "IPY_MODEL_0e2bd89ab9854ba6b2bf52f29214e405",
       "maximized": [
        true,
        false
       ],
       "orig_max_as_min": true,
       "spec": {
        "$schema": "https://vega.github.io/schema/vega/v3.json",
        "axes": [
         {
          "format": ".5",
          "offset": {
           "mult": -1,
           "scale": "ord",
           "value": "Volume"
          },
          "orient": "left",
          "scale": "Volume",
          "title": "Volume",
          "values": [
           -17671.46,
           -16000,
           -14000,
           -12000,
           -10000,
           -8000,
           -6000,
           -4000,
           -2000,
           -392.69
          ],
          "zindex": 1
         },
         {
          "format": ".5",
          "offset": {
           "mult": -1,
           "scale": "ord",
           "value": "Surface Area"
          },
          "orient": "left",
          "scale": "Surface Area",
          "title": "Surface Area",
          "values": [
           314.15,
           500,
           1000,
           1500,
           2000,
           2500,
           3000,
           3500,
           3769.92
          ],
          "zindex": 1
         },
         {
          "format": ".5",
          "offset": {
           "mult": -1,
           "scale": "ord",
           "value": "Height Difference"
          },
          "orient": "left",
          "scale": "Height Difference",
          "title": "Height Difference",
          "values": [
           0,
           2,
           4,
           6,
           8,
           10
          ],
          "zindex": 1
         }
        ],
        "config": {
         "axisY": {
          "titleAlign": "right",
          "titleAngle": -30,
          "titleBaseline": "top",
          "titleX": -5,
          "titleY": 205
         }
        },
        "data": [
         {
          "name": "main",
          "values": [
           {
            "Height Difference": 1.6666554104869906,
            "Surface Area": 575.959007245603,
            "Volume": -1047.1984365810551
           }
          ]
         },
         {
          "name": "fields",
          "values": [
           "Volume",
           "Surface Area",
           "Height Difference"
          ]
         }
        ],
        "height": 200,
        "marks": [
         {
          "clip": {
           "path": "M -40 -20 H 500 V 220 H -40 Z"
          },
          "from": {
           "data": "main"
          },
          "marks": [
           {
            "encode": {
             "enter": {
              "stroke": {
               "value": "red"
              },
              "strokeOpacity": {
               "value": 1
              },
              "strokeWidth": {
               "value": 1.01
              },
              "x": {
               "field": "data",
               "scale": "ord"
              },
              "y": {
               "field": {
                "parent": {
                 "datum": "data"
                }
               },
               "scale": {
                "datum": "data"
               }
              }
             }
            },
            "from": {
             "data": "fields"
            },
            "type": "line"
           },
           {
            "encode": {
             "enter": {
              "text": {
               "signal": "format(parent[datum.data], \".5\")"
              },
              "x": {
               "field": "data",
               "offset": 4,
               "scale": "ord"
              },
              "y": {
               "field": {
                "parent": {
                 "datum": "data"
                }
               },
               "scale": {
                "datum": "data"
               }
              }
             }
            },
            "from": {
             "data": "fields"
            },
            "type": "text"
           },
           {
            "encode": {
             "enter": {
              "stroke": {
               "value": "black"
              },
              "tooltip": {
               "signal": "parent[datum.data]"
              },
              "x": {
               "field": "data",
               "scale": "ord"
              },
              "y": {
               "field": {
                "parent": {
                 "datum": "data"
                }
               },
               "scale": {
                "datum": "data"
               }
              }
             }
            },
            "from": {
             "data": "fields"
            },
            "type": "symbol"
           }
          ],
          "type": "group"
         }
        ],
        "padding": 5,
        "scales": [
         {
          "domain": {
           "data": "fields",
           "field": "data"
          },
          "name": "ord",
          "range": "width",
          "type": "point"
         },
         {
          "domain": [
           -17671.46,
           -392.69
          ],
          "name": "Volume",
          "range": "height",
          "type": "linear",
          "zero": false
         },
         {
          "domain": [
           314.15,
           3769.92
          ],
          "name": "Surface Area",
          "range": "height",
          "type": "linear",
          "zero": false
         },
         {
          "domain": [
           0,
           10
          ],
          "name": "Height Difference",
          "range": "height",
          "type": "linear",
          "zero": false
         }
        ],
        "width": 400
       }
      }
     },
     "47e946417c564013a264db23f26712b8": {
      "model_module": "@jupyter-widgets/base",
      "model_module_version": "1.1.0",
      "model_name": "LayoutModel",
      "state": {}
     },
     "98bc0794990e4a5e9a93c362f70fd893": {
      "model_module": "@jupyter-widgets/base",
      "model_module_version": "1.1.0",
      "model_name": "LayoutModel",
      "state": {}
     },
     "a6935e91fa444f5698a9aba476d331ea": {
      "model_module": "@jupyter-widgets/base",
      "model_module_version": "1.1.0",
      "model_name": "LayoutModel",
      "state": {}
     },
     "b0b4fcd2138f4ba6bcb353694289fbdb": {
      "model_module": "desdeo_vis",
      "model_module_version": "1.0.0",
      "model_name": "NimbusPrefModel",
      "state": {
       "_model_name": "NimbusPrefModel",
       "_view_name": "NimbusPrefView",
       "cur_max_as_min": true,
       "layout": "IPY_MODEL_a6935e91fa444f5698a9aba476d331ea",
       "maximized": [
        true,
        false
       ],
       "orig_max_as_min": true,
       "prefs": [
        {
         "kind": "<>"
        },
        {
         "kind": ">=",
         "val": 1900
        },
        {
         "kind": "<=",
         "val": 1.666
        }
       ],
       "prob": null,
       "spec": {
        "$schema": "https://vega.github.io/schema/vega/v3.json",
        "axes": [
         {
          "format": ".5",
          "offset": {
           "mult": -1,
           "scale": "ord",
           "value": "Volume"
          },
          "orient": "left",
          "scale": "Volume",
          "title": "Volume",
          "values": [
           -17671.46,
           -16000,
           -14000,
           -12000,
           -10000,
           -8000,
           -6000,
           -4000,
           -2000,
           -392.69
          ],
          "zindex": 1
         },
         {
          "format": ".5",
          "offset": {
           "mult": -1,
           "scale": "ord",
           "value": "Surface Area"
          },
          "orient": "left",
          "scale": "Surface Area",
          "title": "Surface Area",
          "values": [
           314.15,
           500,
           1000,
           1500,
           2000,
           2500,
           3000,
           3500,
           3769.92
          ],
          "zindex": 1
         },
         {
          "format": ".5",
          "offset": {
           "mult": -1,
           "scale": "ord",
           "value": "Height Difference"
          },
          "orient": "left",
          "scale": "Height Difference",
          "title": "Height Difference",
          "values": [
           0,
           2,
           4,
           6,
           8,
           10
          ],
          "zindex": 1
         }
        ],
        "config": {
         "axisY": {
          "titleAlign": "right",
          "titleAngle": -30,
          "titleBaseline": "top",
          "titleX": -5,
          "titleY": 205
         }
        },
        "data": [
         {
          "name": "main",
          "values": [
           {
            "Height Difference": 1.6666554104869906,
            "Surface Area": 575.959007245603,
            "Volume": -1047.1984365810551
           }
          ]
         },
         {
          "name": "fields",
          "values": [
           "Volume",
           "Surface Area",
           "Height Difference"
          ]
         }
        ],
        "height": 200,
        "marks": [
         {
          "clip": {
           "path": "M -40 -20 H 500 V 220 H -40 Z"
          },
          "from": {
           "data": "main"
          },
          "marks": [
           {
            "encode": {
             "enter": {
              "stroke": {
               "value": "red"
              },
              "strokeOpacity": {
               "value": 1
              },
              "strokeWidth": {
               "value": 1.01
              },
              "x": {
               "field": "data",
               "scale": "ord"
              },
              "y": {
               "field": {
                "parent": {
                 "datum": "data"
                }
               },
               "scale": {
                "datum": "data"
               }
              }
             }
            },
            "from": {
             "data": "fields"
            },
            "type": "line"
           },
           {
            "encode": {
             "enter": {
              "text": {
               "signal": "format(parent[datum.data], \".5\")"
              },
              "x": {
               "field": "data",
               "offset": 4,
               "scale": "ord"
              },
              "y": {
               "field": {
                "parent": {
                 "datum": "data"
                }
               },
               "scale": {
                "datum": "data"
               }
              }
             }
            },
            "from": {
             "data": "fields"
            },
            "type": "text"
           },
           {
            "encode": {
             "enter": {
              "stroke": {
               "value": "black"
              },
              "tooltip": {
               "signal": "parent[datum.data]"
              },
              "x": {
               "field": "data",
               "scale": "ord"
              },
              "y": {
               "field": {
                "parent": {
                 "datum": "data"
                }
               },
               "scale": {
                "datum": "data"
               }
              }
             }
            },
            "from": {
             "data": "fields"
            },
            "type": "symbol"
           }
          ],
          "type": "group"
         }
        ],
        "padding": 5,
        "scales": [
         {
          "domain": {
           "data": "fields",
           "field": "data"
          },
          "name": "ord",
          "range": "width",
          "type": "point"
         },
         {
          "domain": [
           -17671.46,
           -392.69
          ],
          "name": "Volume",
          "range": "height",
          "type": "linear",
          "zero": false
         },
         {
          "domain": [
           314.15,
           3769.92
          ],
          "name": "Surface Area",
          "range": "height",
          "type": "linear",
          "zero": false
         },
         {
          "domain": [
           0,
           10
          ],
          "name": "Height Difference",
          "range": "height",
          "type": "linear",
          "zero": false
         }
        ],
        "width": 400
       }
      }
     },
     "c254af8803f24ebfb3e9284651981e6c": {
      "model_module": "desdeo_vis",
      "model_module_version": "1.0.0",
      "model_name": "ParplotModel",
      "state": {
       "_model_name": "ParplotModel",
       "_view_name": "ParplotView",
       "cur_max_as_min": true,
       "layout": "IPY_MODEL_47e946417c564013a264db23f26712b8",
       "maximized": [
        true,
        false
       ],
       "orig_max_as_min": true,
       "spec": {
        "$schema": "https://vega.github.io/schema/vega/v3.json",
        "axes": [
         {
          "format": ".5",
          "offset": {
           "mult": -1,
           "scale": "ord",
           "value": "Volume"
          },
          "orient": "left",
          "scale": "Volume",
          "title": "Volume",
          "values": [
           -17671.46,
           -16000,
           -14000,
           -12000,
           -10000,
           -8000,
           -6000,
           -4000,
           -2000,
           -392.69
          ],
          "zindex": 1
         },
         {
          "format": ".5",
          "offset": {
           "mult": -1,
           "scale": "ord",
           "value": "Surface Area"
          },
          "orient": "left",
          "scale": "Surface Area",
          "title": "Surface Area",
          "values": [
           314.15,
           500,
           1000,
           1500,
           2000,
           2500,
           3000,
           3500,
           3769.92
          ],
          "zindex": 1
         },
         {
          "format": ".5",
          "offset": {
           "mult": -1,
           "scale": "ord",
           "value": "Height Difference"
          },
          "orient": "left",
          "scale": "Height Difference",
          "title": "Height Difference",
          "values": [
           0,
           2,
           4,
           6,
           8,
           10
          ],
          "zindex": 1
         }
        ],
        "config": {
         "axisY": {
          "titleAlign": "right",
          "titleAngle": -30,
          "titleBaseline": "top",
          "titleX": -5,
          "titleY": 205
         }
        },
        "data": [
         {
          "name": "main",
          "values": [
           {
            "Height Difference": 0.027555558697693883,
            "Surface Area": 1877.621267579616,
            "Volume": -6066.077726154202
           },
           {
            "Height Difference": 1.8641088672666228e-11,
            "Surface Area": 1221.4374283788175,
            "Volume": -3271.33562742671
           },
           {
            "Height Difference": 9.999999549519302,
            "Surface Area": 3769.911101945035,
            "Volume": -17671.45808593079
           },
           {
            "Height Difference": 1.8455403807848825e-05,
            "Surface Area": 1522.4592405721037,
            "Volume": -4506.218951333476
           }
          ]
         },
         {
          "name": "fields",
          "values": [
           "Volume",
           "Surface Area",
           "Height Difference"
          ]
         }
        ],
        "height": 200,
        "marks": [
         {
          "clip": {
           "path": "M -40 -20 H 500 V 220 H -40 Z"
          },
          "from": {
           "data": "main"
          },
          "marks": [
           {
            "encode": {
             "enter": {
              "stroke": {
               "value": "red"
              },
              "strokeOpacity": {
               "value": 1
              },
              "strokeWidth": {
               "value": 1.01
              },
              "x": {
               "field": "data",
               "scale": "ord"
              },
              "y": {
               "field": {
                "parent": {
                 "datum": "data"
                }
               },
               "scale": {
                "datum": "data"
               }
              }
             }
            },
            "from": {
             "data": "fields"
            },
            "type": "line"
           },
           {
            "encode": {
             "enter": {
              "text": {
               "signal": "format(parent[datum.data], \".5\")"
              },
              "x": {
               "field": "data",
               "offset": 4,
               "scale": "ord"
              },
              "y": {
               "field": {
                "parent": {
                 "datum": "data"
                }
               },
               "scale": {
                "datum": "data"
               }
              }
             }
            },
            "from": {
             "data": "fields"
            },
            "type": "text"
           },
           {
            "encode": {
             "enter": {
              "stroke": {
               "value": "black"
              },
              "tooltip": {
               "signal": "parent[datum.data]"
              },
              "x": {
               "field": "data",
               "scale": "ord"
              },
              "y": {
               "field": {
                "parent": {
                 "datum": "data"
                }
               },
               "scale": {
                "datum": "data"
               }
              }
             }
            },
            "from": {
             "data": "fields"
            },
            "type": "symbol"
           }
          ],
          "type": "group"
         }
        ],
        "padding": 5,
        "scales": [
         {
          "domain": {
           "data": "fields",
           "field": "data"
          },
          "name": "ord",
          "range": "width",
          "type": "point"
         },
         {
          "domain": [
           -17671.46,
           -392.69
          ],
          "name": "Volume",
          "range": "height",
          "type": "linear",
          "zero": false
         },
         {
          "domain": [
           314.15,
           3769.92
          ],
          "name": "Surface Area",
          "range": "height",
          "type": "linear",
          "zero": false
         },
         {
          "domain": [
           0,
           10
          ],
          "name": "Height Difference",
          "range": "height",
          "type": "linear",
          "zero": false
         }
        ],
        "width": 400
       }
      }
     },
     "ea3979b087c64d008201274a7643a094": {
      "model_module": "desdeo_vis",
      "model_module_version": "1.0.0",
      "model_name": "ParplotModel",
      "state": {
       "_model_name": "ParplotModel",
       "_view_name": "ParplotView",
       "cur_max_as_min": true,
       "layout": "IPY_MODEL_98bc0794990e4a5e9a93c362f70fd893",
       "maximized": [
        true,
        false
       ],
       "orig_max_as_min": true,
       "spec": {
        "$schema": "https://vega.github.io/schema/vega/v3.json",
        "axes": [
         {
          "format": ".5",
          "offset": {
           "mult": -1,
           "scale": "ord",
           "value": "Volume"
          },
          "orient": "left",
          "scale": "Volume",
          "title": "Volume",
          "values": [
           -17671.46,
           -16000,
           -14000,
           -12000,
           -10000,
           -8000,
           -6000,
           -4000,
           -2000,
           -392.69
          ],
          "zindex": 1
         },
         {
          "format": ".5",
          "offset": {
           "mult": -1,
           "scale": "ord",
           "value": "Surface Area"
          },
          "orient": "left",
          "scale": "Surface Area",
          "title": "Surface Area",
          "values": [
           314.15,
           500,
           1000,
           1500,
           2000,
           2500,
           3000,
           3500,
           3769.92
          ],
          "zindex": 1
         },
         {
          "format": ".5",
          "offset": {
           "mult": -1,
           "scale": "ord",
           "value": "Height Difference"
          },
          "orient": "left",
          "scale": "Height Difference",
          "title": "Height Difference",
          "values": [
           0,
           2,
           4,
           6,
           8,
           10
          ],
          "zindex": 1
         }
        ],
        "config": {
         "axisY": {
          "titleAlign": "right",
          "titleAngle": -30,
          "titleBaseline": "top",
          "titleX": -5,
          "titleY": 205
         }
        },
        "data": [
         {
          "name": "main",
          "values": [
           {
            "Height Difference": 0.019454874947022915,
            "Surface Area": 2177.3414177442055,
            "Volume": -7447.641790090838
           },
           {
            "Height Difference": 1.458408505072839e-09,
            "Surface Area": 1221.4381987144752,
            "Volume": -3271.3386679545856
           },
           {
            "Height Difference": 9.999997940669122,
            "Surface Area": 3769.9109900284247,
            "Volume": -17671.45721947852
           },
           {
            "Height Difference": 4.8750569803246435e-06,
            "Surface Area": 1522.459276067063,
            "Volume": -4506.218563944614
           }
          ]
         },
         {
          "name": "fields",
          "values": [
           "Volume",
           "Surface Area",
           "Height Difference"
          ]
         }
        ],
        "height": 200,
        "marks": [
         {
          "clip": {
           "path": "M -40 -20 H 500 V 220 H -40 Z"
          },
          "from": {
           "data": "main"
          },
          "marks": [
           {
            "encode": {
             "enter": {
              "stroke": {
               "value": "red"
              },
              "strokeOpacity": {
               "value": 1
              },
              "strokeWidth": {
               "value": 1.01
              },
              "x": {
               "field": "data",
               "scale": "ord"
              },
              "y": {
               "field": {
                "parent": {
                 "datum": "data"
                }
               },
               "scale": {
                "datum": "data"
               }
              }
             }
            },
            "from": {
             "data": "fields"
            },
            "type": "line"
           },
           {
            "encode": {
             "enter": {
              "text": {
               "signal": "format(parent[datum.data], \".5\")"
              },
              "x": {
               "field": "data",
               "offset": 4,
               "scale": "ord"
              },
              "y": {
               "field": {
                "parent": {
                 "datum": "data"
                }
               },
               "scale": {
                "datum": "data"
               }
              }
             }
            },
            "from": {
             "data": "fields"
            },
            "type": "text"
           },
           {
            "encode": {
             "enter": {
              "stroke": {
               "value": "black"
              },
              "tooltip": {
               "signal": "parent[datum.data]"
              },
              "x": {
               "field": "data",
               "scale": "ord"
              },
              "y": {
               "field": {
                "parent": {
                 "datum": "data"
                }
               },
               "scale": {
                "datum": "data"
               }
              }
             }
            },
            "from": {
             "data": "fields"
            },
            "type": "symbol"
           }
          ],
          "type": "group"
         }
        ],
        "padding": 5,
        "scales": [
         {
          "domain": {
           "data": "fields",
           "field": "data"
          },
          "name": "ord",
          "range": "width",
          "type": "point"
         },
         {
          "domain": [
           -17671.46,
           -392.69
          ],
          "name": "Volume",
          "range": "height",
          "type": "linear",
          "zero": false
         },
         {
          "domain": [
           314.15,
           3769.92
          ],
          "name": "Surface Area",
          "range": "height",
          "type": "linear",
          "zero": false
         },
         {
          "domain": [
           0,
           10
          ],
          "name": "Height Difference",
          "range": "height",
          "type": "linear",
          "zero": false
         }
        ],
        "width": 400
       }
      }
     }
    },
    "version_major": 2,
    "version_minor": 0
   }
  }
 },
 "nbformat": 4,
 "nbformat_minor": 2
}
