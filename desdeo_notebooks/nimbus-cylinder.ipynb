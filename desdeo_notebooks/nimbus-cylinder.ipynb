{
 "cells": [
  {
   "cell_type": "markdown",
   "metadata": {},
   "source": [
    "# Solving the cylinder problem using NIMBUS\n",
    "\n",
    "Let's consider a cell shaped like a cylinder, that is, a circular cross-sectional prism. The shape of the cell is here determined by two quantities, its radius $x_1$ and its height $x_2$. We want to maximize the volume of the cylinder and minimize the surface area. In addition to this, cylinder's height should be close to 15 units.\n",
    "\n",
    "The volume of a cylinder is the product of its base area and height. A cylinder can be cut and unrolled into a rectangle and the surface area of this rectangle is the product of its height and the perimeter of the circle $2\\pi x_1 x_2$. The sum of the cylinder's two flat circular caps is $2\\pi x_1^2$. The total surface area of the cylinder with flat circular ends is then $2\\pi x_1^2 + 2\\pi x_1 x_2$.\n",
    "\n",
    "Three functions can be made from the above information: the one describing the volume of the cylinder, the other telling the surface area and the last measuring the height difference.\n",
    "\n",
    "So the problem is:\n",
    "\n",
    "maximize Volume = $\\pi x_1^2  x_2$  \n",
    "minimize SurfaceArea = $2\\pi x_1^2 + 2\\pi x_1 x_2$  \n",
    "minimize HeightDiff = $|x2-15.0|$\n",
    "\n",
    "Let's assume that the cylinder's height must be greater or equal to its width. This information gives us the following constraint:\n",
    "\n",
    "$g(x) = 2x_1 - x_2 \\leq 0$\n",
    "\n",
    "To run this example, you need to run each individual code block (the ones saying `In [ ]:` to their left) by clicking on each one and then clicking \"Run\". Please refer to the [background section of the documentation](http://desdeo.readthedocs.io/en/latest/background/index.html) for information about NIMBUS.\n",
    "\n",
    "## Imports\n",
    "\n",
    "This first code snippet simply imports the parts of DESDEO we need for this notebook. We import optimisation methods, NIMBUS and the CylinderProblem problem definition from the desdeo module, and visualisation and preference selection tools and widgets from the desdeo_vis module."
   ]
  },
  {
   "cell_type": "code",
   "execution_count": null,
   "metadata": {},
   "outputs": [],
   "source": [
    "from desdeo.method.NIMBUS import NIMBUS\n",
    "from desdeo.optimization import SciPyDE\n",
    "from desdeo.problem.toy import CylinderProblem\n",
    "\n",
    "from desdeo_vis.widget import NimbusPrefWidget, ParplotWidget"
   ]
  },
  {
   "cell_type": "markdown",
   "metadata": {},
   "source": [
    "## Getting a solutions based on a preference\n",
    "\n",
    "First we initialise the `CylinderProblem` problem and the `NIMBUS` solution method. Then we get an initial result. We can plot solutions at any time using `ParplotWidget`."
   ]
  },
  {
   "cell_type": "code",
   "execution_count": null,
   "metadata": {},
   "outputs": [],
   "source": [
    "problem = CylinderProblem()\n",
    "method = NIMBUS(problem, SciPyDE)\n",
    "results = method.init_iteration()\n",
    "\n",
    "ParplotWidget(results.objective_vars, problem)"
   ]
  },
  {
   "cell_type": "markdown",
   "metadata": {},
   "source": [
    "The first solution we get from NIMBUS is reasonable. However, we want to increase the cylinder's volume as much as possible, still keeping the surface area and height difference low.\n",
    "\n",
    "To do this, first display a `NimbusPrefWidget`. After executing the cell, a widget will display which you can use as follows:\n",
    " * For now we let the volume vary freely by selecting `<>` from the leftmost dropdown.\n",
    " * The next column has the preferences for the surface area function. We want to know how much the volume will be when the surface area is less than 1900, so we set the dropdown to `>=` and type `1900` into the textbox next to it.\n",
    " * For height difference, we won't accept a worse solution than the current one, so we set the dropdown to `<=`."
   ]
  },
  {
   "cell_type": "code",
   "execution_count": null,
   "metadata": {},
   "outputs": [],
   "source": [
    "pref = NimbusPrefWidget(results.objective_vars, problem)\n",
    "pref"
   ]
  },
  {
   "cell_type": "markdown",
   "metadata": {},
   "source": [
    "Now we can plot the solutions given by NIMBUS."
   ]
  },
  {
   "cell_type": "code",
   "execution_count": null,
   "metadata": {},
   "outputs": [],
   "source": [
    "results2 = method.next_iteration(preference=pref.nimbus_clf(method))\n",
    "\n",
    "ParplotWidget(results2.objective_vars, problem)"
   ]
  }
 ],
 "metadata": {
  "kernelspec": {
   "display_name": "Python 3",
   "language": "python",
   "name": "python3"
  },
  "language_info": {
   "codemirror_mode": {
    "name": "ipython",
    "version": 3
   },
   "file_extension": ".py",
   "mimetype": "text/x-python",
   "name": "python",
   "nbconvert_exporter": "python",
   "pygments_lexer": "ipython3",
   "version": "3.6.5rc1"
  }
 },
 "nbformat": 4,
 "nbformat_minor": 2
}
